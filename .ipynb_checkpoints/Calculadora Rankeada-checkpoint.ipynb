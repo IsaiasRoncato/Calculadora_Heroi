{
 "cells": [
  {
   "cell_type": "code",
   "execution_count": 6,
   "id": "f37b4d8d",
   "metadata": {},
   "outputs": [
    {
     "name": "stdout",
     "output_type": "stream",
     "text": [
      "Digite a quantidade de vitórias: 50\n",
      "Digite a quantidade de derrotas: 10\n",
      "O Herói tem saldo de 40 está no nível de Prata\n",
      "Deseja verificar outro jogador? (s/n): s\n",
      "Digite a quantidade de vitórias: 100\n",
      "Digite a quantidade de derrotas: 0\n",
      "O Herói tem saldo de 100 está no nível de Lendário\n",
      "Deseja verificar outro jogador? (s/n): n\n"
     ]
    }
   ],
   "source": [
    "# Função criado para definir quantas Vitórias e Nível o Herói esta\n",
    "def calcular_rank(vitorias, derrotas):\n",
    "    saldo_vitorias = vitorias - derrotas\n",
    "     \n",
    "    # Utilizando uma estrutura de decisão para determinar vitórias e o nível do Herói\n",
    "    if vitorias < 10:\n",
    "        nivel = \"Ferro\"\n",
    "    elif vitorias <= 20:\n",
    "        nivel = \"Bronze\"\n",
    "    elif vitorias <= 50:\n",
    "        nivel = \"Prata\"\n",
    "    elif vitorias <= 80:\n",
    "        nivel = \"Ouro\"\n",
    "    elif vitorias <= 90:\n",
    "        nivel = \"Diamante\"\n",
    "    elif vitorias <= 100:\n",
    "        nivel = \"Lendário\"\n",
    "    else:\n",
    "        nivel = \"Imortal\"\n",
    "    \n",
    "    return saldo_vitorias, nivel\n",
    "\n",
    "# Função criada para interagir com o Usuário\n",
    "def interacao_usuario():\n",
    "    while True:\n",
    "        vit = int(input(\"Digite a quantidade de vitórias: \"))\n",
    "        der = int(input(\"Digite a quantidade de derrotas: \"))\n",
    "            \n",
    "        saldo, nivel = calcular_rank(vit, der)\n",
    "        print(f\"O Herói tem saldo de {saldo} está no nível de {nivel}\")\n",
    "\n",
    "        opcao = input(\"Deseja verificar outro jogador? (s/n): \").lower()\n",
    "        if opcao != 's':\n",
    "            break  # Sai do loop se a opção não for 's'\n",
    "            print(\"Erro: Por favor, digite um número inteiro para as vitórias e derrotas.\")\n",
    "\n",
    "# Chamada da função para interagir com o usuário\n",
    "interacao_usuario()\n",
    "    "
   ]
  }
 ],
 "metadata": {
  "kernelspec": {
   "display_name": "Python 3 (ipykernel)",
   "language": "python",
   "name": "python3"
  },
  "language_info": {
   "codemirror_mode": {
    "name": "ipython",
    "version": 3
   },
   "file_extension": ".py",
   "mimetype": "text/x-python",
   "name": "python",
   "nbconvert_exporter": "python",
   "pygments_lexer": "ipython3",
   "version": "3.11.5"
  }
 },
 "nbformat": 4,
 "nbformat_minor": 5
}
